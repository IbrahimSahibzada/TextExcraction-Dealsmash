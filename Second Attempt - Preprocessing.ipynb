{
 "cells": [
  {
   "cell_type": "code",
   "execution_count": 1,
   "metadata": {
    "collapsed": true
   },
   "outputs": [],
   "source": [
    "import random, os\n",
    "import cv2\n",
    "import numpy as np\n",
    "import imutils\n",
    "from imutils import contours\n",
    "from skimage.filters import threshold_local"
   ]
  },
  {
   "cell_type": "code",
   "execution_count": 2,
   "metadata": {
    "collapsed": true
   },
   "outputs": [],
   "source": [
    "def resize_image(image):\n",
    "    r = 500.0 / image.shape[1]\n",
    "    dim = (500, int(image.shape[0] * r))\n",
    "    kernel = np.ones((5,5),np.uint8)\n",
    "\n",
    "    gray = cv2.GaussianBlur(image,(3,3),1)\n",
    "    resized = cv2.bilateralFilter(gray, 9 , 50, 50)\n",
    "\n",
    "    gray = cv2.cvtColor(resized, cv2.COLOR_BGR2GRAY)\n",
    "    bin_image = cv2.adaptiveThreshold(gray,250,cv2.ADAPTIVE_THRESH_GAUSSIAN_C,cv2.THRESH_BINARY,9,2)\n",
    "    gray = cv2.morphologyEx(bin_image, cv2.MORPH_OPEN, kernel)\n",
    "    gray = cv2.morphologyEx(bin_image, cv2.MORPH_CLOSE, kernel)\n",
    "    #bin_image = cv2.adaptiveThreshold(gray,250,cv2.THRESH_BINARY,cv2.,9,2)\n",
    "\n",
    "\n",
    "    #gray = cv2.dilate(gray, kernel, iterations = 1)\n",
    "    #bin_image = cv2.adaptiveThreshold(gray,250,cv2.ADAPTIVE_THRESH_GAUSSIAN_C,cv2.THRESH_BINARY,3,1)\n",
    "\n",
    "    resized = cv2.resize(bin_image, dim, interpolation = cv2.INTER_AREA)\n",
    "    \n",
    "    return resized"
   ]
  },
  {
   "cell_type": "code",
   "execution_count": 3,
   "metadata": {
    "collapsed": true
   },
   "outputs": [],
   "source": [
    "def morph_canny(image):\n",
    "    kernel = np.ones((5,5),np.uint16)\n",
    "\n",
    "    #gray = cv2.morphologyEx(gray, cv2.MORPH_OPEN, kernel)\n",
    "    #gray = cv2.dilate(gray,kernel,iterations = 5)\n",
    "    image = cv2.Canny(image, 50, 200)\n",
    "\n",
    "    cv2.imshow(\"Edged\", image)\n",
    "    cv2.waitKey(0)\n",
    "    return image"
   ]
  },
  {
   "cell_type": "code",
   "execution_count": 4,
   "metadata": {
    "collapsed": true
   },
   "outputs": [],
   "source": [
    "def contour_warp_corp(image1,image2):\n",
    "    cnts = cv2.findContours(image1.copy(), cv2.RETR_LIST, cv2.CHAIN_APPROX_SIMPLE)\n",
    "    cnts = cnts[0] if imutils.is_cv2() else cnts[1]\n",
    "    cnts = sorted(cnts, key = cv2.contourArea, reverse = True)[:5]\n",
    "    screenCnt = 0\n",
    " \n",
    "    for c in cnts:\n",
    "        # approximate the contour\n",
    "        peri = cv2.arcLength(c, True)\n",
    "        approx = cv2.approxPolyDP(c, 0.02 * peri, True)\n",
    " \n",
    "        # if our approximated contour has four points, then we\n",
    "        # can assume that we have found our screen\n",
    "        if len(approx) == 4:\n",
    "            screenCnt = approx\n",
    "            break\n",
    "\n",
    "    cv2.drawContours(image2, [screenCnt], -1, (0, 255, 0), 2)\n",
    "    cv2.imshow(\"Outline\", image2)\n",
    "    cv2.waitKey(0)\n",
    "    \n",
    "    warped = four_point_transform(image2, screenCnt.reshape(4,2))\n",
    "    warped = cv2.cvtColor(warped, cv2.COLOR_BGR2GRAY)\n",
    "    T = threshold_local(warped, 11, offset = 10, method = 'gaussian')\n",
    "    warped = (warped > T).astype(\"uint8\") * 255\n",
    "\n",
    "    cv2.imshow('Cropped',warped)\n",
    "    cv2.waitKey(0)\n",
    "    return warped"
   ]
  },
  {
   "cell_type": "code",
   "execution_count": 5,
   "metadata": {
    "collapsed": true
   },
   "outputs": [],
   "source": [
    "path = r'C:\\Users\\Lap Mania\\DealSmash\\Img-Issue'"
   ]
  },
  {
   "cell_type": "code",
   "execution_count": 18,
   "metadata": {
    "collapsed": true
   },
   "outputs": [],
   "source": [
    "random_filename1 = random.choice([\n",
    "    x for x in os.listdir(path)\n",
    "\n",
    "         if os.path.isfile(os.path.join(path, x))\n",
    "])"
   ]
  },
  {
   "cell_type": "code",
   "execution_count": 19,
   "metadata": {
    "collapsed": true
   },
   "outputs": [],
   "source": [
    "img0 = cv2.imread(random_filename1)"
   ]
  },
  {
   "cell_type": "code",
   "execution_count": 20,
   "metadata": {
    "collapsed": true
   },
   "outputs": [],
   "source": [
    "img1 = resize_image(img0)"
   ]
  },
  {
   "cell_type": "code",
   "execution_count": 21,
   "metadata": {},
   "outputs": [
    {
     "data": {
      "text/plain": [
       "-1"
      ]
     },
     "execution_count": 21,
     "metadata": {},
     "output_type": "execute_result"
    }
   ],
   "source": [
    "cv2.imshow('Gaussian', img1)\n",
    "cv2.waitKey(0)"
   ]
  },
  {
   "cell_type": "code",
   "execution_count": null,
   "metadata": {
    "collapsed": true,
    "scrolled": true
   },
   "outputs": [],
   "source": []
  },
  {
   "cell_type": "code",
   "execution_count": null,
   "metadata": {
    "collapsed": true
   },
   "outputs": [],
   "source": []
  }
 ],
 "metadata": {
  "kernelspec": {
   "display_name": "Python 3",
   "language": "python",
   "name": "python3"
  },
  "language_info": {
   "codemirror_mode": {
    "name": "ipython",
    "version": 3
   },
   "file_extension": ".py",
   "mimetype": "text/x-python",
   "name": "python",
   "nbconvert_exporter": "python",
   "pygments_lexer": "ipython3",
   "version": "3.6.2"
  }
 },
 "nbformat": 4,
 "nbformat_minor": 2
}
